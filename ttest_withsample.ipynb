{
  "nbformat": 4,
  "nbformat_minor": 0,
  "metadata": {
    "colab": {
      "name": "ttest_withsample.ipynb",
      "provenance": [],
      "collapsed_sections": []
    },
    "kernelspec": {
      "name": "python3",
      "display_name": "Python 3"
    }
  },
  "cells": [
    {
      "cell_type": "code",
      "metadata": {
        "id": "vP9HCti8mNN1",
        "colab_type": "code",
        "colab": {}
      },
      "source": [
        "\"\"\"\n",
        "In this notebook i try to give the simplest possible samples for stats tests.\n",
        "I will try to explain with weights of groups of people.\n",
        "This is a common sample because we can generate samples which are easily understandable.\n",
        "Say our population is a city.\n",
        "In this city we have schools and offices.\n",
        "At scholls ,there are teenagers so their weights are forming teenager range weights.\n",
        "At offices ,there are people ranging from 20-60 ages, so their mean weight is higher than\n",
        "schools and also their variance is more.\n",
        "\"\"\"\n",
        "from scipy import stats\n",
        "import matplotlib.pyplot as plt\n"
      ],
      "execution_count": 0,
      "outputs": []
    },
    {
      "cell_type": "code",
      "metadata": {
        "id": "iG1LCvrlmUeE",
        "colab_type": "code",
        "outputId": "d34cc29f-3040-4ccf-cc34-145045988a30",
        "colab": {
          "base_uri": "https://localhost:8080/",
          "height": 265
        }
      },
      "source": [
        "school_mean = 50\n",
        "office_mean = 70\n",
        "def get_school_sample(sample_size):\n",
        "  rvs = stats.norm.rvs(loc=school_mean, scale=5, size=(sample_size))\n",
        "  return rvs\n",
        "\n",
        "def get_office_sample(sample_size):\n",
        "  rvs = stats.norm.rvs(loc=office_mean, scale=10, size=(sample_size))\n",
        "  return rvs\n",
        "\n",
        "school1 = get_school_sample(40)\n",
        "school2 = get_school_sample(40)\n",
        "office1 = get_office_sample(40)\n",
        "office2 = get_office_sample(40)\n",
        "alpha = 0.6\n",
        "plt.hist(school1,label=\"school1\",bins=20,alpha=alpha,density=True)\n",
        "plt.hist(school2,label=\"school2\",bins=20,alpha=alpha,density=True)\n",
        "\n",
        "plt.hist(office1,label=\"office1\",bins=20,alpha=alpha,density=True)\n",
        "plt.hist(office2,label=\"office2\",bins=20,alpha=alpha,density=True)\n",
        "plt.legend()\n",
        "plt.show()"
      ],
      "execution_count": 3,
      "outputs": [
        {
          "output_type": "display_data",
          "data": {
            "image/png": "[encoded data removed]",
            "text/plain": [
              "<Figure size 432x288 with 1 Axes>"
            ]
          },
          "metadata": {
            "tags": []
          }
        }
      ]
    },
    {
      "cell_type": "code",
      "metadata": {
        "id": "HH3uo-XiJsEo",
        "colab_type": "code",
        "colab": {}
      },
      "source": [
        "\"\"\"\n",
        "Documentaion :\n",
        "scipy.stats.ttest_1samp\n",
        "This is a two-sided test for the null hypothesis that the expected value (mean) of a sample of independent observations a is equal to the given population mean, popmean.\n",
        "\n",
        "\"\"\""
      ],
      "execution_count": 0,
      "outputs": []
    },
    {
      "cell_type": "code",
      "metadata": {
        "id": "KNtcBT8pmVjk",
        "colab_type": "code",
        "outputId": "9fa5b6bd-b16e-4048-998f-3f4990122fc6",
        "colab": {
          "base_uri": "https://localhost:8080/",
          "height": 54
        }
      },
      "source": [
        "#Let’s say we have samples and we want to see if their mean is our school mean\n",
        "print( stats.ttest_1samp(get_school_sample(20), school_mean) )\n",
        "print( stats.ttest_1samp(get_school_sample(40), school_mean) )\n",
        "#pvalue are high, means this sample is likely  taken from a school population\n",
        "#null hypothesis is true,means are same"
      ],
      "execution_count": 4,
      "outputs": [
        {
          "output_type": "stream",
          "text": [
            "Ttest_1sampResult(statistic=1.4141922116611674, pvalue=0.17348332784140452)\n",
            "Ttest_1sampResult(statistic=-0.7200454230533849, pvalue=0.4757905019252805)\n"
          ],
          "name": "stdout"
        }
      ]
    },
    {
      "cell_type": "code",
      "metadata": {
        "id": "XvuXMCISoHnR",
        "colab_type": "code",
        "outputId": "b30c805c-e59e-4e1e-c37a-2c926db28e64",
        "colab": {
          "base_uri": "https://localhost:8080/",
          "height": 54
        }
      },
      "source": [
        "print(stats.ttest_1samp(get_office_sample(20), school_mean))\n",
        "print(stats.ttest_1samp(get_office_sample(40), school_mean))\n",
        "#pvalue are very low, means this sample is likely NOT taken from a school population\n",
        "#null hypothesis is fale,means are NOT same"
      ],
      "execution_count": 5,
      "outputs": [
        {
          "output_type": "stream",
          "text": [
            "Ttest_1sampResult(statistic=19.298163548224316, pvalue=6.09069745247081e-14)\n",
            "Ttest_1sampResult(statistic=13.814694471154143, pvalue=1.3170695132179848e-16)\n"
          ],
          "name": "stdout"
        }
      ]
    },
    {
      "cell_type": "code",
      "metadata": {
        "id": "62grXLeut_EJ",
        "colab_type": "code",
        "colab": {}
      },
      "source": [
        ""
      ],
      "execution_count": 0,
      "outputs": []
    },
    {
      "cell_type": "code",
      "metadata": {
        "id": "zZbdRmKnoLXf",
        "colab_type": "code",
        "outputId": "775bd894-0158-412d-9f5a-7d6d0208e192",
        "colab": {
          "base_uri": "https://localhost:8080/",
          "height": 35
        }
      },
      "source": [
        "#Let's compare different schools\n",
        "#Our null hypothesis in this case is that there is no statistically significant difference in the mean of schools.\n",
        "stats.ttest_ind(get_school_sample(40), get_school_sample(40))\n",
        "#pvalue high, we fail to reject null hypothesis , means are same"
      ],
      "execution_count": 6,
      "outputs": [
        {
          "output_type": "execute_result",
          "data": {
            "text/plain": [
              "Ttest_indResult(statistic=-0.2626612895788488, pvalue=0.7935041725437011)"
            ]
          },
          "metadata": {
            "tags": []
          },
          "execution_count": 6
        }
      ]
    },
    {
      "cell_type": "code",
      "metadata": {
        "id": "hIutLrZ4ujT3",
        "colab_type": "code",
        "colab": {
          "base_uri": "https://localhost:8080/",
          "height": 35
        },
        "outputId": "e2ac010e-a529-4b25-da87-361a77dfd2f5"
      },
      "source": [
        "#Let's compare same value , no difference between \n",
        "#Our null hypothesis in this case is that there is no statistically significant difference in the mean of schools.\n",
        "set1 = get_school_sample(40)\n",
        "stats.ttest_ind(set1,set1 )"
      ],
      "execution_count": 14,
      "outputs": [
        {
          "output_type": "execute_result",
          "data": {
            "text/plain": [
              "Ttest_indResult(statistic=0.0, pvalue=1.0)"
            ]
          },
          "metadata": {
            "tags": []
          },
          "execution_count": 14
        }
      ]
    },
    {
      "cell_type": "code",
      "metadata": {
        "id": "agNVwQeqoQir",
        "colab_type": "code",
        "outputId": "28c9ad2c-0954-4cef-aa26-f889bc82a879",
        "colab": {
          "base_uri": "https://localhost:8080/",
          "height": 35
        }
      },
      "source": [
        "#Our null hypothesis in this case is that there is no statistically significant difference in the mean of schools and office\n",
        "stats.ttest_ind(get_school_sample(40), get_office_sample(40))\n",
        "#pvalue low, we  reject null hypothesis , means are NOT same"
      ],
      "execution_count": 7,
      "outputs": [
        {
          "output_type": "execute_result",
          "data": {
            "text/plain": [
              "Ttest_indResult(statistic=-9.567216713884685, pvalue=8.60475792821767e-15)"
            ]
          },
          "metadata": {
            "tags": []
          },
          "execution_count": 7
        }
      ]
    },
    {
      "cell_type": "code",
      "metadata": {
        "id": "gwm3tGamLo3n",
        "colab_type": "code",
        "colab": {}
      },
      "source": [
        "#Paired T-Test\n",
        "#Lets say we gave different foods for lunch to schools,we want to understand if this has an effect on weights\n",
        "#The null hypothesis is that the new special lunch system  has no effect on weight.\n",
        "\n"
      ],
      "execution_count": 0,
      "outputs": []
    },
    {
      "cell_type": "code",
      "metadata": {
        "id": "w9a1UI9NdUag",
        "colab_type": "code",
        "outputId": "0c113e08-3662-4535-95e3-a9d914215f61",
        "colab": {
          "base_uri": "https://localhost:8080/",
          "height": 283
        }
      },
      "source": [
        "#here we add some noise(result of our new lunch system),here we add a strong effect\n",
        "before = get_school_sample(50)\n",
        "lunch = stats.norm.rvs(loc=10, scale=15, size=(50))\n",
        "after = before + lunch\n",
        "plt.hist(before,label=\"before\",alpha=0.5)\n",
        "plt.hist(after,label=\"after\",alpha=0.5)\n",
        "plt.hist(lunch,label=\"lunch\",alpha=0.5)\n",
        "plt.legend()\n",
        "plt.show()\n",
        "stats.ttest_rel(before, after)\n",
        "#pvalue so small, it means this treatment is having an effect\n",
        "#reject null hypothesis, treatment(new lunch system)\n",
        "#Think this lunch as fast food it changed the weights heavily"
      ],
      "execution_count": 19,
      "outputs": [
        {
          "output_type": "display_data",
          "data": {
            "image/png": "[encoded data removed]",
            "text/plain": [
              "<Figure size 432x288 with 1 Axes>"
            ]
          },
          "metadata": {
            "tags": []
          }
        },
        {
          "output_type": "execute_result",
          "data": {
            "text/plain": [
              "Ttest_relResult(statistic=-5.272243685988046, pvalue=3.0220383498676905e-06)"
            ]
          },
          "metadata": {
            "tags": []
          },
          "execution_count": 19
        }
      ]
    },
    {
      "cell_type": "code",
      "metadata": {
        "id": "pK9YbXHZdiGP",
        "colab_type": "code",
        "outputId": "414439b1-f29f-496f-c7ff-db799eac2742",
        "colab": {
          "base_uri": "https://localhost:8080/",
          "height": 283
        }
      },
      "source": [
        "before = get_school_sample(50)\n",
        "lunch = stats.norm.rvs(loc=1, scale=15, size=(50))\n",
        "after = before + lunch\n",
        "plt.hist(before,label=\"before\",alpha=0.5)\n",
        "plt.hist(after,label=\"after\",alpha=0.5)\n",
        "plt.hist(lunch,label=\"lunch\",alpha=0.5)\n",
        "plt.legend()\n",
        "plt.show()\n",
        "stats.ttest_rel(before, after)\n",
        "#pvalue so small, it means this treatment is having an effect\n",
        "#reject null hypothesis, treatment(new lunch system) has effect\n",
        "#Think this lunch as balnced food it did not change the weights "
      ],
      "execution_count": 21,
      "outputs": [
        {
          "output_type": "display_data",
          "data": {
            "image/png": "[encoded data removed]",
            "text/plain": [
              "<Figure size 432x288 with 1 Axes>"
            ]
          },
          "metadata": {
            "tags": []
          }
        },
        {
          "output_type": "execute_result",
          "data": {
            "text/plain": [
              "Ttest_relResult(statistic=-0.21334391897603042, pvalue=0.8319439115393832)"
            ]
          },
          "metadata": {
            "tags": []
          },
          "execution_count": 21
        }
      ]
    },
    {
      "cell_type": "code",
      "metadata": {
        "id": "St4uc7qTudpq",
        "colab_type": "code",
        "colab": {}
      },
      "source": [
        ""
      ],
      "execution_count": 0,
      "outputs": []
    },
    {
      "cell_type": "code",
      "metadata": {
        "id": "wpShbWUDyWz2",
        "colab_type": "code",
        "colab": {}
      },
      "source": [
        ""
      ],
      "execution_count": 0,
      "outputs": []
    },
    {
      "cell_type": "code",
      "metadata": {
        "id": "nd8qHM2kyYAO",
        "colab_type": "code",
        "colab": {}
      },
      "source": [
        ""
      ],
      "execution_count": 0,
      "outputs": []
    },
    {
      "cell_type": "code",
      "metadata": {
        "id": "9ixLv6VFyiaC",
        "colab_type": "code",
        "colab": {}
      },
      "source": [
        ""
      ],
      "execution_count": 0,
      "outputs": []
    }
  ]
}