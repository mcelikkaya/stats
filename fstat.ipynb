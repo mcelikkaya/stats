{
 "cells": [
  {
   "cell_type": "code",
   "execution_count": 2,
   "metadata": {},
   "outputs": [],
   "source": [
    "\"\"\"\n",
    "I will create a very basic F test. \n",
    "Below info is taken from documentation\n",
    "F-statistic = variance between groups / variance within groups\n",
    "If our null hypothesis is correct that \n",
    "\n",
    "ALL THE MEANS OF THE GROUPS ARE EQUAL\n",
    "\n",
    "the numerator and denominator should be roughly close to the same and the statistic should be near 1.0. \n",
    "And, with a higher ratio — when the F-statistic is far greater than 1.0 — implies \n",
    "the samples are drawn from populations with quite different mean values\n",
    "\n",
    " \n",
    "REJECT THE NULL WHEN YOUR p VALUE IS SMALLER THAN YOUR ALPHA LEVEL.\n",
    "\n",
    "You should not reject the null if your critical f value is smaller than your F Value, \n",
    "unless you also have a small p-value.\n",
    "\n",
    "            Treatment Difference + Random Difference\n",
    "F =      ___________________________________________\n",
    "                Random Difference\n",
    "\n",
    "If there are no treatment differences (that is, if there is no actual effect), we expect F to be 1. \n",
    "If there are treatment differences, we expect F to be greater than 1.\n",
    "\n",
    "\"\"\"\n",
    "import pandas as pd \n",
    "import numpy as np\n",
    "import matplotlib.pyplot as plt\n",
    "import seaborn as sns\n",
    "from scipy import stats\n",
    "%matplotlib inline"
   ]
  },
  {
   "cell_type": "code",
   "execution_count": 3,
   "metadata": {},
   "outputs": [
    {
     "data": {
      "image/png": "[encoded data removed]",
      "text/plain": [
       "<Figure size 432x288 with 1 Axes>"
      ]
     },
     "metadata": {
      "needs_background": "light"
     },
     "output_type": "display_data"
    }
   ],
   "source": [
    "import matplotlib.pyplot as plt\n",
    "\n",
    " \n",
    "ser1 = pd.Series(np.random.normal(loc=10.0, scale=2.0, size=100))\n",
    "ser2 = pd.Series(np.random.normal(loc=10.0, scale=2.0, size=100))\n",
    "ser3 = pd.Series(np.random.normal(loc=100.0, scale=2.0, size=100))\n",
    "ser4 = pd.Series(np.random.normal(loc=110.0, scale=2.0, size=100))\n",
    "ser5 = pd.Series(np.random.normal(loc=100.0, scale=2.0, size=100))\n",
    "\n",
    "def plot_multihist(series):\n",
    "    for index,ser in enumerate( series):\n",
    "        plt.hist(ser,  alpha=0.5, label=str(index))\n",
    "    plt.legend(loc='upper right')\n",
    "    plt.show()\n",
    "\n",
    "\n",
    "plot_multihist([ser1,ser2,ser3,ser4])"
   ]
  },
  {
   "cell_type": "code",
   "execution_count": 4,
   "metadata": {},
   "outputs": [
    {
     "name": "stdout",
     "output_type": "stream",
     "text": [
      "F_onewayResult(statistic=0.0, pvalue=1.0)\n"
     ]
    }
   ],
   "source": [
    "print(stats.f_oneway(ser1,ser1))"
   ]
  },
  {
   "cell_type": "code",
   "execution_count": 5,
   "metadata": {},
   "outputs": [
    {
     "name": "stdout",
     "output_type": "stream",
     "text": [
      "F_onewayResult(statistic=4.501573793191831, pvalue=0.03510708556353136)\n"
     ]
    }
   ],
   "source": [
    "print(stats.f_oneway(ser1,ser2))"
   ]
  },
  {
   "cell_type": "code",
   "execution_count": 6,
   "metadata": {},
   "outputs": [
    {
     "name": "stdout",
     "output_type": "stream",
     "text": [
      "F_onewayResult(statistic=68061.84703978748, pvalue=0.0)\n"
     ]
    }
   ],
   "source": [
    "print(stats.f_oneway(ser1,ser2,ser3))"
   ]
  },
  {
   "cell_type": "code",
   "execution_count": 7,
   "metadata": {},
   "outputs": [
    {
     "name": "stdout",
     "output_type": "stream",
     "text": [
      "F_onewayResult(statistic=76195.11297381861, pvalue=0.0)\n"
     ]
    }
   ],
   "source": [
    "print(stats.f_oneway(ser1,ser2,ser3,ser4))"
   ]
  },
  {
   "cell_type": "code",
   "execution_count": 8,
   "metadata": {},
   "outputs": [
    {
     "name": "stdout",
     "output_type": "stream",
     "text": [
      "F_onewayResult(statistic=1396.6543820276447, pvalue=1.2229366638331582e-91)\n"
     ]
    }
   ],
   "source": [
    "print(stats.f_oneway(ser3,ser4))"
   ]
  },
  {
   "cell_type": "code",
   "execution_count": 9,
   "metadata": {},
   "outputs": [
    {
     "name": "stdout",
     "output_type": "stream",
     "text": [
      "F_onewayResult(statistic=64341.55155981456, pvalue=0.0)\n"
     ]
    }
   ],
   "source": [
    "print(stats.f_oneway(ser1,ser2,ser3,ser4,ser5))"
   ]
  },
  {
   "cell_type": "code",
   "execution_count": null,
   "metadata": {},
   "outputs": [],
   "source": []
  },
  {
   "cell_type": "code",
   "execution_count": null,
   "metadata": {},
   "outputs": [],
   "source": []
  },
  {
   "cell_type": "code",
   "execution_count": null,
   "metadata": {},
   "outputs": [],
   "source": []
  },
  {
   "cell_type": "code",
   "execution_count": null,
   "metadata": {},
   "outputs": [],
   "source": []
  },
  {
   "cell_type": "code",
   "execution_count": null,
   "metadata": {},
   "outputs": [],
   "source": []
  }
 ],
 "metadata": {
  "kernelspec": {
   "display_name": "Python 3",
   "language": "python",
   "name": "python3"
  },
  "language_info": {
   "codemirror_mode": {
    "name": "ipython",
    "version": 3
   },
   "file_extension": ".py",
   "mimetype": "text/x-python",
   "name": "python",
   "nbconvert_exporter": "python",
   "pygments_lexer": "ipython3",
   "version": "3.7.1"
  }
 },
 "nbformat": 4,
 "nbformat_minor": 2
}
